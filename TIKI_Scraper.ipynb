{
  "nbformat": 4,
  "nbformat_minor": 0,
  "metadata": {
    "colab": {
      "name": "[T6]W1_D6_TIKI Scraper.ipynb",
      "provenance": [],
      "collapsed_sections": [
        "1PxiWLQ2Xoc9"
      ]
    },
    "kernelspec": {
      "name": "python3",
      "display_name": "Python 3"
    },
    "language_info": {
      "name": "python"
    }
  },
  "cells": [
    {
      "cell_type": "markdown",
      "metadata": {
        "id": "vUYk0UDdbsFG"
      },
      "source": [
        "\n",
        "\n",
        "# **Tiki Web Scraping with Selenium**\n",
        "\n",
        "\n",
        "**Overview**: Build a web-crawler that take in a Tiki URL and return a dataframe \n"
      ]
    },
    {
      "cell_type": "markdown",
      "metadata": {
        "id": "y9YQJxiiXiZ-"
      },
      "source": [
        "#Install resources"
      ]
    },
    {
      "cell_type": "code",
      "metadata": {
        "id": "WH7Z6VRFLYm2",
        "colab": {
          "base_uri": "https://localhost:8080/"
        },
        "outputId": "20b211bd-f568-44ce-e638-8b5c197a3d44"
      },
      "source": [
        "# install selenium and other resources for crawling data\n",
        "!pip install selenium\n",
        "!apt-get update\n",
        "!apt install chromium-chromedriver"
      ],
      "execution_count": 16,
      "outputs": [
        {
          "output_type": "stream",
          "name": "stdout",
          "text": [
            "Requirement already satisfied: selenium in /usr/local/lib/python3.7/dist-packages (3.141.0)\n",
            "Requirement already satisfied: urllib3 in /usr/local/lib/python3.7/dist-packages (from selenium) (1.24.3)\n",
            "Hit:1 https://cloud.r-project.org/bin/linux/ubuntu bionic-cran40/ InRelease\n",
            "Ign:2 https://developer.download.nvidia.com/compute/cuda/repos/ubuntu1804/x86_64  InRelease\n",
            "Ign:3 https://developer.download.nvidia.com/compute/machine-learning/repos/ubuntu1804/x86_64  InRelease\n",
            "Get:4 http://security.ubuntu.com/ubuntu bionic-security InRelease [88.7 kB]\n",
            "Hit:5 https://developer.download.nvidia.com/compute/cuda/repos/ubuntu1804/x86_64  Release\n",
            "Hit:6 https://developer.download.nvidia.com/compute/machine-learning/repos/ubuntu1804/x86_64  Release\n",
            "Hit:7 http://archive.ubuntu.com/ubuntu bionic InRelease\n",
            "Hit:8 http://ppa.launchpad.net/c2d4u.team/c2d4u4.0+/ubuntu bionic InRelease\n",
            "Get:9 http://archive.ubuntu.com/ubuntu bionic-updates InRelease [88.7 kB]\n",
            "Hit:11 http://ppa.launchpad.net/cran/libgit2/ubuntu bionic InRelease\n",
            "Hit:13 http://ppa.launchpad.net/deadsnakes/ppa/ubuntu bionic InRelease\n",
            "Get:14 http://archive.ubuntu.com/ubuntu bionic-backports InRelease [74.6 kB]\n",
            "Hit:15 http://ppa.launchpad.net/graphics-drivers/ppa/ubuntu bionic InRelease\n",
            "Fetched 252 kB in 3s (99.2 kB/s)\n",
            "Reading package lists... Done\n",
            "Reading package lists... Done\n",
            "Building dependency tree       \n",
            "Reading state information... Done\n",
            "chromium-chromedriver is already the newest version (93.0.4577.63-0ubuntu0.18.04.1).\n",
            "0 upgraded, 0 newly installed, 0 to remove and 80 not upgraded.\n"
          ]
        }
      ]
    },
    {
      "cell_type": "code",
      "metadata": {
        "id": "VzYAnIcMLDVc"
      },
      "source": [
        "### IMPORTS ###\n",
        "import re\n",
        "import time\n",
        "import pandas as pd\n",
        "\n",
        "from selenium import webdriver\n",
        "from selenium.common.exceptions import NoSuchElementException"
      ],
      "execution_count": 17,
      "outputs": []
    },
    {
      "cell_type": "markdown",
      "metadata": {
        "id": "1PxiWLQ2Xoc9"
      },
      "source": [
        "#Configuration for Driver and links"
      ]
    },
    {
      "cell_type": "code",
      "metadata": {
        "id": "GUk_wQ3SK_Lz"
      },
      "source": [
        "###############\n",
        "### GLOBALS ###\n",
        "###############\n",
        "\n",
        "# Header for chromedriver\n",
        "HEADER = {'User-Agent': 'Mozilla/5.0 (Macintosh; Intel Mac OS X 10_14_5) AppleWebKit/537.36 (KHTML, like Gecko) Chrome/91.0.4472.164 Safari/537.36'}\n",
        "# Urls\n",
        "TIKI                = 'https://tiki.vn'\n",
        "MAIN_CATEGORIES = [\n",
        "    {'Name': 'Điện Thoại - Máy Tính Bảng',\n",
        "     'URL': 'https://tiki.vn/dien-thoai-may-tinh-bang/c1789?src=c.1789.hamburger_menu_fly_out_banner'},\n",
        "\n",
        "    {'Name': 'Điện Tử - Điện Lạnh',\n",
        "     'URL': 'https://tiki.vn/tivi-thiet-bi-nghe-nhin/c4221?src=c.4221.hamburger_menu_fly_out_banner'},\n",
        "\n",
        "    {'Name': 'Phụ Kiện - Thiết Bị Số', \n",
        "     'URL': 'https://tiki.vn/thiet-bi-kts-phu-kien-so/c1815?src=c.1815.hamburger_menu_fly_out_banner'},\n",
        "\n",
        "    {'Name': 'Laptop - Thiết bị IT', \n",
        "     'URL': 'https://tiki.vn/laptop-may-vi-tinh/c1846?src=c.1846.hamburger_menu_fly_out_banner'},\n",
        "\n",
        "    {'Name': 'Máy Ảnh - Quay Phim', \n",
        "     'URL': 'https://tiki.vn/may-anh/c1801?src=c.1801.hamburger_menu_fly_out_banner'},\n",
        "\n",
        "    {'Name': 'Điện Gia Dụng', \n",
        "     'URL': 'https://tiki.vn/dien-gia-dung/c1882?src=c.1882.hamburger_menu_fly_out_banner'},\n",
        "\n",
        "    {'Name': 'Nhà Cửa Đời Sống', \n",
        "     'URL': 'https://tiki.vn/nha-cua-doi-song/c1883?src=c.1883.hamburger_menu_fly_out_banner'},\n",
        "\n",
        "    {'Name': 'Hàng Tiêu Dùng - Thực Phẩm', \n",
        "     'URL': 'https://tiki.vn/bach-hoa-online/c4384?src=c.4384.hamburger_menu_fly_out_banner'},\n",
        "\n",
        "    {'Name': 'Đồ chơi, Mẹ & Bé', \n",
        "     'URL': 'https://tiki.vn/me-va-be/c2549?src=c.2549.hamburger_menu_fly_out_banner'},\n",
        "\n",
        "    {'Name': 'Làm Đẹp - Sức Khỏe', \n",
        "     'URL': 'https://tiki.vn/lam-dep-suc-khoe/c1520?src=c.1520.hamburger_menu_fly_out_banner'},\n",
        "\n",
        "    {'Name': 'Thể Thao - Dã Ngoại', \n",
        "     'URL': 'https://tiki.vn/the-thao/c1975?src=c.1975.hamburger_menu_fly_out_banner'},\n",
        "\n",
        "    {'Name': 'Xe Máy, Ô tô, Xe Đạp', \n",
        "     'URL': 'https://tiki.vn/o-to-xe-may-xe-dap/c8594?src=c.8594.hamburger_menu_fly_out_banner'},\n",
        "\n",
        "    {'Name': 'Hàng quốc tế', \n",
        "     'URL': 'https://tiki.vn/hang-quoc-te/c17166?src=c.17166.hamburger_menu_fly_out_banner'},\n",
        "\n",
        "    {'Name': 'Sách, VPP & Quà Tặng', \n",
        "     'URL': 'https://tiki.vn/nha-sach-tiki/c8322?src=c.8322.hamburger_menu_fly_out_banner'},\n",
        "\n",
        "    {'Name': 'Voucher - Dịch Vụ - Thẻ Cào', \n",
        "     'URL': 'https://tiki.vn/voucher-dich-vu/c11312?src=c.11312.hamburger_menu_fly_out_banner'}\n",
        "]\n",
        "\n",
        "# Global driver to use throughout the script\n",
        "DRIVER = None"
      ],
      "execution_count": 18,
      "outputs": []
    },
    {
      "cell_type": "code",
      "metadata": {
        "colab": {
          "base_uri": "https://localhost:8080/",
          "height": 35
        },
        "id": "7VTxebOWMyet",
        "outputId": "232b4c05-4a0e-429e-9afe-b80b3a68a107"
      },
      "source": [
        "MAIN_CATEGORIES[-1]['URL']"
      ],
      "execution_count": 4,
      "outputs": [
        {
          "output_type": "execute_result",
          "data": {
            "application/vnd.google.colaboratory.intrinsic+json": {
              "type": "string"
            },
            "text/plain": [
              "'https://tiki.vn/voucher-dich-vu/c11312?src=c.11312.hamburger_menu_fly_out_banner'"
            ]
          },
          "metadata": {},
          "execution_count": 4
        }
      ]
    },
    {
      "cell_type": "markdown",
      "metadata": {
        "id": "0eN3zAMuXMh3"
      },
      "source": [
        "#Function to Start and Close Driver"
      ]
    },
    {
      "cell_type": "code",
      "metadata": {
        "id": "taSb4oreXL6l"
      },
      "source": [
        "# Function to (re)start driver\n",
        "def start_driver(force_restart=False):\n",
        "    global DRIVER\n",
        "    \n",
        "    if DRIVER is not None:\n",
        "        if force_restart:\n",
        "            DRIVER.close()\n",
        "        else:\n",
        "            raise RuntimeError('ERROR: cannot overwrite an active driver. Please close the driver before restarting.')\n",
        "    \n",
        "    # Setting up the driver\n",
        "    options = webdriver.ChromeOptions()\n",
        "    options.add_argument('-headless') # we don't want a chrome browser opens, so it will run in the background\n",
        "    options.add_argument('-no-sandbox')\n",
        "    options.add_argument('-disable-dev-shm-usage')\n",
        "\n",
        "    DRIVER = webdriver.Chrome('chromedriver',options=options)\n",
        "\n",
        "# Wrapper to close driver if its created\n",
        "def close_driver():\n",
        "    global DRIVER\n",
        "    if DRIVER is not None:\n",
        "        DRIVER.close()\n",
        "    DRIVER = None"
      ],
      "execution_count": 19,
      "outputs": []
    },
    {
      "cell_type": "code",
      "metadata": {
        "id": "yM1I8V9R7ffH"
      },
      "source": [
        "start_driver()"
      ],
      "execution_count": 20,
      "outputs": []
    },
    {
      "cell_type": "markdown",
      "metadata": {
        "id": "9ur0CQW0XRcI"
      },
      "source": [
        "#Function to get info from one product"
      ]
    },
    {
      "cell_type": "code",
      "metadata": {
        "id": "zi_wY4TE75_C"
      },
      "source": [
        "all_product_items = DRIVER.find_elements_by_class_name('product-item')\n",
        "product_item = all_product_items[3]"
      ],
      "execution_count": 8,
      "outputs": []
    },
    {
      "cell_type": "code",
      "metadata": {
        "colab": {
          "base_uri": "https://localhost:8080/",
          "height": 53
        },
        "id": "f0N28yrk8L-k",
        "outputId": "3d3d6c5a-6115-4f36-811d-18b920cc595b"
      },
      "source": [
        "product_item.get_attribute('href')"
      ],
      "execution_count": 9,
      "outputs": [
        {
          "output_type": "execute_result",
          "data": {
            "application/vnd.google.colaboratory.intrinsic+json": {
              "type": "string"
            },
            "text/plain": [
              "'https://tiki.vn/smart-tivi-casper-hd-32-inch-32hx6200-p73681047.html?__s=ssdp&itm_medium=CPC&itm_source=tiki-reco&itm_campaign=tiki-reco_UNK_DT_UNK_UNK_tiki-listing_UNK_p-category-mpid-listing-v1_20210929_MD_PID.73681047'"
            ]
          },
          "metadata": {},
          "execution_count": 9
        }
      ]
    },
    {
      "cell_type": "code",
      "metadata": {
        "colab": {
          "base_uri": "https://localhost:8080/",
          "height": 35
        },
        "id": "fhHYSN7zBnyc",
        "outputId": "0ad537ed-0f4b-4725-bf8e-bc2916d12ced"
      },
      "source": [
        "product_item.find_element_by_class_name('name').find_element_by_tag_name('span').get_attribute('innerHTML')"
      ],
      "execution_count": 10,
      "outputs": [
        {
          "output_type": "execute_result",
          "data": {
            "application/vnd.google.colaboratory.intrinsic+json": {
              "type": "string"
            },
            "text/plain": [
              "'Smart Tivi Casper HD 32 inch 32HX6200'"
            ]
          },
          "metadata": {},
          "execution_count": 10
        }
      ]
    },
    {
      "cell_type": "code",
      "metadata": {
        "colab": {
          "base_uri": "https://localhost:8080/",
          "height": 35
        },
        "id": "9hfgyRx8ENzG",
        "outputId": "d5d7fcfa-f464-4124-bbf1-dfbf7a850aa0"
      },
      "source": [
        "thumbnail = product_item.find_element_by_class_name('thumbnail')#YOUR CODE HERE\n",
        "imgs = thumbnail.find_elements_by_tag_name('img')\n",
        "img = imgs[1] if len(imgs) > 1 else imgs[0]\n",
        "\n",
        "img.get_attribute('alt')"
      ],
      "execution_count": 11,
      "outputs": [
        {
          "output_type": "execute_result",
          "data": {
            "application/vnd.google.colaboratory.intrinsic+json": {
              "type": "string"
            },
            "text/plain": [
              "'Smart Tivi Casper HD 32 inch 32HX6200'"
            ]
          },
          "metadata": {},
          "execution_count": 11
        }
      ]
    },
    {
      "cell_type": "code",
      "metadata": {
        "id": "V58dapXdeTVu"
      },
      "source": [
        "\n",
        "d['name'] = product_item.find_element_by_class_name('name').text"
      ],
      "execution_count": null,
      "outputs": []
    },
    {
      "cell_type": "code",
      "metadata": {
        "id": "a3lx4DNUXQhN"
      },
      "source": [
        "#################\n",
        "### FUNCTIONS ###\n",
        "#################\n",
        "\n",
        "# Function to extract product info from the product\n",
        "def get_product_info_single(product_item):\n",
        "    d = {'name':'',\n",
        "         'price':'',\n",
        "         'product_url':'',\n",
        "         'image':'',\n",
        "         'tiki_now':None,\n",
        "         'free_delivery':None,\n",
        "         'star':None,\n",
        "         'badge_under_price':None,\n",
        "         'discount_percentage':None,\n",
        "         'shocking_price':None,\n",
        "         'paid_by_installments':None,\n",
        "         'free_gifts':None}\n",
        "    # get thumbnail by class_name and Tag name and get_attribute()\n",
        "    check_null = lambda x: True if x == '' else False \n",
        "    try:\n",
        "        thumbnail = product_item.find_element_by_class_name('thumbnail')#YOUR CODE HERE\n",
        "        imgs = thumbnail.find_elements_by_tag_name('img')\n",
        "        img = imgs[1] if len(imgs) > 1 else imgs[0]\n",
        "        d['image'] = img.get_attribute('src')\n",
        "\n",
        "        free_delivery = imgs[0] if len(imgs) > 1 else None\n",
        "        if free_delivery is not None:\n",
        "          d['free_delivery'] = True if free_delivery.get_attribute('src') in ['https://salt.tikicdn.com/ts/upload/9b/8d/9a/1f3c2633f5f2530f85c8f59d8a816653.png','https://salt.tikicdn.com/ts/upload/dc/0d/49/3251737db2de83b74eba8a9ad6d03338.png'] else False\n",
        "    except NoSuchElementException:\n",
        "        pass\n",
        "\n",
        "    # name get name through find_element_by_class_name\n",
        "    try:\n",
        "        #YOUR CODE HERE\n",
        "        d['name'] = product_item.find_element_by_class_name('name').find_element_by_tag_name('span').get_attribute('innerHTML')\n",
        "    except NoSuchElementException:\n",
        "        pass\n",
        "\n",
        "    # get price find_element_by_class_name\n",
        "    try:\n",
        "        #d['price'] = product_item.find_element_by_class_name('price-discount').text#YOUR CODE HERE\n",
        "        #if check_null(d['price']):\n",
        "        d['price'] = product_item.find_element_by_class_name('price-discount__price').get_attribute('innerHTML')\n",
        "        d['discount_percentage'] = product_item.find_element_by_class_name('price-discount__discount').get_attribute('innerHTML')\n",
        "    except NoSuchElementException:\n",
        "        d['price'] = -1\n",
        "    \n",
        "    # get link from .get_attribute()\n",
        "    try:\n",
        "        product_link     = product_item.get_attribute('href')#YOUR CODE HERE\n",
        "        d['product_url'] = product_link#YOUR CODE HERE CLEAN LINK WITH STRING MANUPULATION\n",
        "    except NoSuchElementException:\n",
        "        pass\n",
        "\n",
        "    #tiki_now\n",
        "    try:\n",
        "      tiki_now = product_item.find_element_by_class_name('badge-service').find_element_by_tag_name('img').get_attribute('src')\n",
        "      d['tiki_now'] = True if tiki_now == 'https://salt.tikicdn.com/ts/upload/9f/32/dd/8a8d39d4453399569dfb3e80fe01de75.png' else False\n",
        "    except NoSuchElementException:\n",
        "      pass\n",
        "\n",
        "    try:\n",
        "      badge_under_price = product_item.find_element_by_class_name('badge-under-price').find_element_by_tag_name('img').get_attribute('src')\n",
        "      d['badge_under_price'] = True if badge_under_price == 'https://salt.tikicdn.com/ts/upload/51/ac/cc/528e80fe3f464f910174e2fdf8887b6f.png' else False\n",
        "    except NoSuchElementException:\n",
        "      pass\n",
        "\n",
        "    try:\n",
        "      badge_benefit = product_item.find_element_by_class_name('badge-benefits')\n",
        "      paid_by_installments = badge_benefit.find_element_by_tag_name('img').get_attribute('src')\n",
        "      d['paid_by_installments'] = True if paid_by_installments == 'https://salt.tikicdn.com/ts/upload/ba/4e/6e/26e9f2487e9f49b7dcf4043960e687dd.png' else False\n",
        "    except NoSuchElementException:\n",
        "      pass\n",
        "\n",
        "    try:\n",
        "      freegift_list = product_item.find_element_by_class_name('freegift-list').find_element_by_tag_name('img').get_attribute('src')\n",
        "      d['free_gifts'] = True if freegift_list == 'https://salt.tikicdn.com/ts/upload/47/35/8c/446f61d046eba9a305d3f39dc0834c4a.png' else False\n",
        "    except NoSuchElementException:\n",
        "      pass\n",
        "\n",
        "    return d\n"
      ],
      "execution_count": 21,
      "outputs": []
    },
    {
      "cell_type": "markdown",
      "metadata": {
        "id": "TNQYhIUqXZZU"
      },
      "source": [
        "#Function to scrape info of all products from a Page URL"
      ]
    },
    {
      "cell_type": "code",
      "metadata": {
        "id": "-00un6opKyNH"
      },
      "source": [
        "# Function to scrape all products from a page\n",
        "def get_product_info_from_page(page_url):\n",
        "    \"\"\" Extract info from all products of a specfic page_url on Tiki website\n",
        "        Args:\n",
        "            page_url: (string) url of the page to scrape\n",
        "        Returns:\n",
        "            data: list of dictionary of products info. If no products shown, return empty list.\n",
        "    \"\"\"\n",
        "    global DRIVER\n",
        "    n_skip=0\n",
        "    n_success=0\n",
        "    data = []\n",
        "    DRIVER.get(page_url) # Use the driver to get info from the product page\n",
        "    time.sleep(5) ## Must have the sleep function\n",
        "\n",
        "    products_all = DRIVER.find_elements_by_class_name('product-item')#YOUR CODE HERE\n",
        "    print(f'Found {len(products_all)} products')\n",
        "\n",
        "    for product in products_all:\n",
        "      #Look through the product and get the data\n",
        "      # YOUR CODE HERE\n",
        "      try:\n",
        "        data.append(get_product_info_single(product))\n",
        "        n_success+=1\n",
        "      except NoSuchElementException:\n",
        "        print('Cannot get this product. Skip')\n",
        "        n_skip+=1\n",
        "    print(f'Number of scraped products: {n_success}')\n",
        "    print(f'Number of skipped products: {n_skip}')\n",
        "    return data"
      ],
      "execution_count": 22,
      "outputs": []
    },
    {
      "cell_type": "code",
      "metadata": {
        "colab": {
          "base_uri": "https://localhost:8080/"
        },
        "id": "M4VOxvj7K6IY",
        "outputId": "36d01028-9534-474f-b525-71cc9450df58"
      },
      "source": [
        "######################\n",
        "### START SCRAPING ###\n",
        "######################\n",
        "prod_data = []\n",
        "num_max_page = 5\n",
        "\n",
        "start_driver(force_restart=True)\n",
        "#for main_cat_url in MAIN_CATEGORIES:\n",
        "main_cat_url = MAIN_CATEGORIES[1]\n",
        "#CODE TO GET DATA\n",
        "for  i  in  range(num_max_page):\n",
        "  page = main_cat_url['URL'].replace('?','?'+'page'+str(i)+'&')\n",
        "  #print(page)\n",
        "  prod_data = prod_data + get_product_info_from_page(page)\n",
        "\n",
        "close_driver()\n",
        "\n",
        "#SAVE DATA TO CSV FILE\n",
        "df = pd.DataFrame(data=prod_data, columns=prod_data[0].keys())\n",
        "df.to_csv('tiki_products.csv')\n"
      ],
      "execution_count": 23,
      "outputs": [
        {
          "output_type": "stream",
          "name": "stdout",
          "text": [
            "Found 72 products\n",
            "Number of scraped products: 72\n",
            "Number of skipped products: 0\n",
            "Found 72 products\n",
            "Number of scraped products: 72\n",
            "Number of skipped products: 0\n",
            "Found 72 products\n",
            "Number of scraped products: 72\n",
            "Number of skipped products: 0\n",
            "Found 72 products\n",
            "Number of scraped products: 72\n",
            "Number of skipped products: 0\n",
            "Found 72 products\n",
            "Number of scraped products: 72\n",
            "Number of skipped products: 0\n"
          ]
        }
      ]
    },
    {
      "cell_type": "code",
      "metadata": {
        "colab": {
          "base_uri": "https://localhost:8080/",
          "height": 712
        },
        "id": "lW5lcYhtJ2I2",
        "outputId": "4c484087-a487-4b2e-e791-4ed1b300a87d"
      },
      "source": [
        "df.head(10)"
      ],
      "execution_count": 24,
      "outputs": [
        {
          "output_type": "execute_result",
          "data": {
            "text/html": [
              "<div>\n",
              "<style scoped>\n",
              "    .dataframe tbody tr th:only-of-type {\n",
              "        vertical-align: middle;\n",
              "    }\n",
              "\n",
              "    .dataframe tbody tr th {\n",
              "        vertical-align: top;\n",
              "    }\n",
              "\n",
              "    .dataframe thead th {\n",
              "        text-align: right;\n",
              "    }\n",
              "</style>\n",
              "<table border=\"1\" class=\"dataframe\">\n",
              "  <thead>\n",
              "    <tr style=\"text-align: right;\">\n",
              "      <th></th>\n",
              "      <th>name</th>\n",
              "      <th>price</th>\n",
              "      <th>product_url</th>\n",
              "      <th>image</th>\n",
              "      <th>tiki_now</th>\n",
              "      <th>free_delivery</th>\n",
              "      <th>star</th>\n",
              "      <th>badge_under_price</th>\n",
              "      <th>discount_percentage</th>\n",
              "      <th>shocking_price</th>\n",
              "      <th>paid_by_installments</th>\n",
              "      <th>free_gifts</th>\n",
              "    </tr>\n",
              "  </thead>\n",
              "  <tbody>\n",
              "    <tr>\n",
              "      <th>0</th>\n",
              "      <td>Tủ lạnh Inverter Panasonic NR-BA189PAVN (167L)...</td>\n",
              "      <td>5.014.000 ₫</td>\n",
              "      <td>https://tka.tiki.vn/pixel?CLICK=&amp;data=djAwMWzL...</td>\n",
              "      <td>https://salt.tikicdn.com/cache/200x200/ts/prod...</td>\n",
              "      <td>None</td>\n",
              "      <td>True</td>\n",
              "      <td>None</td>\n",
              "      <td>True</td>\n",
              "      <td>-24%</td>\n",
              "      <td>None</td>\n",
              "      <td>None</td>\n",
              "      <td>None</td>\n",
              "    </tr>\n",
              "    <tr>\n",
              "      <th>1</th>\n",
              "      <td>Tủ Lạnh Aqua 130 lít AQR-T150FA-BS</td>\n",
              "      <td>-1</td>\n",
              "      <td>https://tiki.vn/tu-tu-lanh-aqua-130-lit-aqr-t1...</td>\n",
              "      <td>https://salt.tikicdn.com/cache/200x200/ts/prod...</td>\n",
              "      <td>None</td>\n",
              "      <td>True</td>\n",
              "      <td>None</td>\n",
              "      <td>None</td>\n",
              "      <td>None</td>\n",
              "      <td>None</td>\n",
              "      <td>True</td>\n",
              "      <td>None</td>\n",
              "    </tr>\n",
              "    <tr>\n",
              "      <th>2</th>\n",
              "      <td>Tủ lạnh Samsung Inverter 208 lít RT19M300BGS/S...</td>\n",
              "      <td>4.699.000 ₫</td>\n",
              "      <td>https://tiki.vn/tu-lanh-samsung-inverter-208-l...</td>\n",
              "      <td>https://salt.tikicdn.com/cache/200x200/ts/prod...</td>\n",
              "      <td>True</td>\n",
              "      <td>True</td>\n",
              "      <td>None</td>\n",
              "      <td>True</td>\n",
              "      <td>-5%</td>\n",
              "      <td>None</td>\n",
              "      <td>True</td>\n",
              "      <td>None</td>\n",
              "    </tr>\n",
              "    <tr>\n",
              "      <th>3</th>\n",
              "      <td>Smart Tivi Casper HD 32 inch 32HX6200</td>\n",
              "      <td>-1</td>\n",
              "      <td>https://tiki.vn/smart-tivi-casper-hd-32-inch-3...</td>\n",
              "      <td>https://salt.tikicdn.com/cache/200x200/ts/prod...</td>\n",
              "      <td>False</td>\n",
              "      <td>True</td>\n",
              "      <td>None</td>\n",
              "      <td>None</td>\n",
              "      <td>None</td>\n",
              "      <td>None</td>\n",
              "      <td>True</td>\n",
              "      <td>None</td>\n",
              "    </tr>\n",
              "    <tr>\n",
              "      <th>4</th>\n",
              "      <td>Tủ lạnh Samsung Inverter 488 lít RF48A4000B4/S...</td>\n",
              "      <td>-1</td>\n",
              "      <td>https://tka.tiki.vn/pixel?CLICK=&amp;data=djAwMaRg...</td>\n",
              "      <td>https://salt.tikicdn.com/cache/200x200/ts/prod...</td>\n",
              "      <td>True</td>\n",
              "      <td>True</td>\n",
              "      <td>None</td>\n",
              "      <td>None</td>\n",
              "      <td>None</td>\n",
              "      <td>None</td>\n",
              "      <td>True</td>\n",
              "      <td>None</td>\n",
              "    </tr>\n",
              "    <tr>\n",
              "      <th>5</th>\n",
              "      <td>Tủ lạnh Electrolux 85L EUM0900SA</td>\n",
              "      <td>-1</td>\n",
              "      <td>https://tiki.vn/tu-lanh-electrolux-85l-eum0900...</td>\n",
              "      <td>https://salt.tikicdn.com/cache/200x200/ts/prod...</td>\n",
              "      <td>None</td>\n",
              "      <td>True</td>\n",
              "      <td>None</td>\n",
              "      <td>None</td>\n",
              "      <td>None</td>\n",
              "      <td>None</td>\n",
              "      <td>None</td>\n",
              "      <td>None</td>\n",
              "    </tr>\n",
              "    <tr>\n",
              "      <th>6</th>\n",
              "      <td>Túi vệ sinh máy lạnh RO _ túi bảo dưỡng điều h...</td>\n",
              "      <td>-1</td>\n",
              "      <td>https://tiki.vn/tui-ve-sinh-may-lanh-ro-_-tui-...</td>\n",
              "      <td>https://salt.tikicdn.com/cache/200x200/ts/prod...</td>\n",
              "      <td>None</td>\n",
              "      <td>True</td>\n",
              "      <td>None</td>\n",
              "      <td>True</td>\n",
              "      <td>None</td>\n",
              "      <td>None</td>\n",
              "      <td>None</td>\n",
              "      <td>None</td>\n",
              "    </tr>\n",
              "    <tr>\n",
              "      <th>7</th>\n",
              "      <td>Tủ lạnh Sharp Inverter 165 lít SJ-X196E-DSS</td>\n",
              "      <td>-1</td>\n",
              "      <td>https://tiki.vn/tu-lanh-sharp-inverter-165-lit...</td>\n",
              "      <td>https://salt.tikicdn.com/cache/200x200/ts/prod...</td>\n",
              "      <td>None</td>\n",
              "      <td>None</td>\n",
              "      <td>None</td>\n",
              "      <td>None</td>\n",
              "      <td>None</td>\n",
              "      <td>None</td>\n",
              "      <td>True</td>\n",
              "      <td>None</td>\n",
              "    </tr>\n",
              "    <tr>\n",
              "      <th>8</th>\n",
              "      <td>Tủ lạnh Samsung Inverter 595 lít RS64T5F01B4/S...</td>\n",
              "      <td>-1</td>\n",
              "      <td>https://tka.tiki.vn/pixel?CLICK=&amp;data=djAwMaDS...</td>\n",
              "      <td>https://salt.tikicdn.com/cache/200x200/ts/prod...</td>\n",
              "      <td>True</td>\n",
              "      <td>True</td>\n",
              "      <td>None</td>\n",
              "      <td>True</td>\n",
              "      <td>None</td>\n",
              "      <td>None</td>\n",
              "      <td>True</td>\n",
              "      <td>None</td>\n",
              "    </tr>\n",
              "    <tr>\n",
              "      <th>9</th>\n",
              "      <td>Smart Tivi Samsung 4K 50 inch UA50TU8100</td>\n",
              "      <td>12.390.000 ₫</td>\n",
              "      <td>https://tiki.vn/smart-tivi-samsung-4k-50-inch-...</td>\n",
              "      <td>https://salt.tikicdn.com/cache/200x200/ts/prod...</td>\n",
              "      <td>None</td>\n",
              "      <td>None</td>\n",
              "      <td>None</td>\n",
              "      <td>None</td>\n",
              "      <td>-20%</td>\n",
              "      <td>None</td>\n",
              "      <td>None</td>\n",
              "      <td>None</td>\n",
              "    </tr>\n",
              "  </tbody>\n",
              "</table>\n",
              "</div>"
            ],
            "text/plain": [
              "                                                name  ... free_gifts\n",
              "0  Tủ lạnh Inverter Panasonic NR-BA189PAVN (167L)...  ...       None\n",
              "1                 Tủ Lạnh Aqua 130 lít AQR-T150FA-BS  ...       None\n",
              "2  Tủ lạnh Samsung Inverter 208 lít RT19M300BGS/S...  ...       None\n",
              "3              Smart Tivi Casper HD 32 inch 32HX6200  ...       None\n",
              "4  Tủ lạnh Samsung Inverter 488 lít RF48A4000B4/S...  ...       None\n",
              "5                   Tủ lạnh Electrolux 85L EUM0900SA  ...       None\n",
              "6  Túi vệ sinh máy lạnh RO _ túi bảo dưỡng điều h...  ...       None\n",
              "7        Tủ lạnh Sharp Inverter 165 lít SJ-X196E-DSS  ...       None\n",
              "8  Tủ lạnh Samsung Inverter 595 lít RS64T5F01B4/S...  ...       None\n",
              "9           Smart Tivi Samsung 4K 50 inch UA50TU8100  ...       None\n",
              "\n",
              "[10 rows x 12 columns]"
            ]
          },
          "metadata": {},
          "execution_count": 24
        }
      ]
    }
  ]
}